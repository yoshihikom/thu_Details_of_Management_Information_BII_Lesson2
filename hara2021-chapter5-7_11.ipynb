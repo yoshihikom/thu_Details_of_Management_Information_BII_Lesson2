{
 "cells": [
  {
   "cell_type": "markdown",
   "id": "5b3612d3",
   "metadata": {},
   "source": [
    "## 5.7 パネルデータ分析(1) データ構築\n",
    "これは以下の内容を参考にしています。\n",
    "\n",
    "https://bashtage.github.io/linearmodels/panel/examples/examples.html\n",
    "\n",
    "まず、パネルデータのセッティングを行います。linearmodels.datasetsの中のwage_panelデータを読み込み、dataに代入します。\n",
    "\n",
    "続いて、Pandasのカテゴリデータとして、dataからyearを取り出し、それをyearに代入します。\n",
    "\n",
    "続いて、dataにインデックス値としてnrおよびyearを設定します。\n",
    "\n",
    "続いて、カテゴリ化し変数yearに代入した年次データを、再度data内のyearに代入します。\n",
    "\n",
    "最後に、データの概要をprintを用いて標準出力します。"
   ]
  },
  {
   "cell_type": "code",
   "execution_count": 1,
   "id": "8e33817d",
   "metadata": {},
   "outputs": [
    {
     "name": "stdout",
     "output_type": "stream",
     "text": [
      "\n",
      "F. Vella and M. Verbeek (1998), \"Whose Wages Do Unions Raise? A Dynamic Model\n",
      "of Unionism and Wage Rate Determination for Young Men,\" Journal of Applied\n",
      "Econometrics 13, 163-183.\n",
      "\n",
      "nr                       person identifier\n",
      "year                     1980 to 1987\n",
      "black                    =1 if black\n",
      "exper                    labor market experience\n",
      "hisp                     =1 if Hispanic\n",
      "hours                    annual hours worked\n",
      "married                  =1 if married\n",
      "educ                     years of schooling\n",
      "union                    =1 if in union\n",
      "lwage                    log(wage)\n",
      "expersq                  exper^2\n",
      "occupation               Occupation code\n",
      "\n"
     ]
    }
   ],
   "source": [
    "import pandas as pd\n",
    "from linearmodels.datasets import wage_panel\n",
    "\n",
    "#データセットを読み込む\n",
    "data = wage_panel.load()\n",
    "#年情報データを取得する\n",
    "year = pd.Categorical(data.year)\n",
    "#インデックス情報を指定する\n",
    "# nr が個人の識別子\n",
    "# year が年の識別情報\n",
    "data = data.set_index([\"nr\", \"year\"])\n",
    "data[\"year\"] = year\n",
    "\n",
    "#データの概要を抽出する\n",
    "print(wage_panel.DESCR)"
   ]
  },
  {
   "cell_type": "markdown",
   "id": "f05623e2",
   "metadata": {},
   "source": [
    "データセットの概要が出力されます。今回のデータセットは、F. Vella and M. Verbeek (1998)が、Journal of Applied Econometricsに公開した論文に基づくことが確認できる。\n",
    "\n",
    "そして、データセットの一部を出力する。"
   ]
  },
  {
   "cell_type": "code",
   "execution_count": 2,
   "id": "f6959f3e",
   "metadata": {},
   "outputs": [
    {
     "name": "stdout",
     "output_type": "stream",
     "text": [
      "         black  exper  hisp  hours  married  educ  union     lwage  expersq  \\\n",
      "nr year                                                                       \n",
      "13 1980      0      1     0   2672        0    14      0  1.197540        1   \n",
      "   1981      0      2     0   2320        0    14      1  1.853060        4   \n",
      "   1982      0      3     0   2940        0    14      0  1.344462        9   \n",
      "   1983      0      4     0   2960        0    14      0  1.433213       16   \n",
      "   1984      0      5     0   3071        0    14      0  1.568125       25   \n",
      "\n",
      "         occupation  year  \n",
      "nr year                    \n",
      "13 1980           9  1980  \n",
      "   1981           9  1981  \n",
      "   1982           9  1982  \n",
      "   1983           9  1983  \n",
      "   1984           5  1984  \n"
     ]
    }
   ],
   "source": [
    "#データの中身を確認する\n",
    "print(data.head())"
   ]
  },
  {
   "cell_type": "markdown",
   "id": "e756c5a1",
   "metadata": {},
   "source": [
    "個人の識別子であるnrごとに、年ごとのパラメータが複数収められたパネルデータであることが確認できる。\n",
    "\n",
    "続いて、データの概要について確認する。describe()で最大値や最小値、平均値などが確認できるのは、クロスセクションなデータと同じです。"
   ]
  },
  {
   "cell_type": "code",
   "execution_count": 3,
   "id": "8272ac28",
   "metadata": {},
   "outputs": [
    {
     "name": "stdout",
     "output_type": "stream",
     "text": [
      "             black        exper         hisp        hours      married  \\\n",
      "count  4360.000000  4360.000000  4360.000000  4360.000000  4360.000000   \n",
      "mean      0.115596     6.514679     0.155963  2191.257339     0.438991   \n",
      "std       0.319777     2.825873     0.362862   566.352301     0.496321   \n",
      "min       0.000000     0.000000     0.000000   120.000000     0.000000   \n",
      "25%       0.000000     4.000000     0.000000  2040.000000     0.000000   \n",
      "50%       0.000000     6.000000     0.000000  2080.000000     0.000000   \n",
      "75%       0.000000     9.000000     0.000000  2414.250000     1.000000   \n",
      "max       1.000000    18.000000     1.000000  4992.000000     1.000000   \n",
      "\n",
      "              educ        union        lwage      expersq   occupation  \n",
      "count  4360.000000  4360.000000  4360.000000  4360.000000  4360.000000  \n",
      "mean     11.766972     0.244037     1.649147    50.424771     4.988532  \n",
      "std       1.746181     0.429564     0.532609    40.781991     2.319978  \n",
      "min       3.000000     0.000000    -3.579079     0.000000     1.000000  \n",
      "25%      11.000000     0.000000     1.350717    16.000000     4.000000  \n",
      "50%      12.000000     0.000000     1.671143    36.000000     5.000000  \n",
      "75%      12.000000     0.000000     1.991086    81.000000     6.000000  \n",
      "max      16.000000     1.000000     4.051860   324.000000     9.000000  \n"
     ]
    }
   ],
   "source": [
    "#データの概要を確認する\n",
    "print(data.describe())"
   ]
  },
  {
   "cell_type": "markdown",
   "id": "d4c48ffa",
   "metadata": {},
   "source": [
    "## 5.8 パネルデータ分析(2) Pooled OLS\n",
    "それぞれのエントリ（今回のデータの場合はnr）による特性を考慮しない回帰モデルとしての、PooledOLSを実行する。\n",
    "\n",
    "ここでは、linearmodelsのPooledOLSをインポートします。今回は、被説明変数としてlwage、説明変数に、expersq、union、marriedなどの変数や、year（年ダミー）とし、これまでの回帰分析と同じく、sm.add_constantを用いて定数項を加えて回帰分析を行う。"
   ]
  },
  {
   "cell_type": "code",
   "execution_count": 4,
   "id": "c3bef0d3",
   "metadata": {},
   "outputs": [
    {
     "name": "stdout",
     "output_type": "stream",
     "text": [
      "                          PooledOLS Estimation Summary                          \n",
      "================================================================================\n",
      "Dep. Variable:                  lwage   R-squared:                        0.1246\n",
      "Estimator:                  PooledOLS   R-squared (Between):              0.0902\n",
      "No. Observations:                4360   R-squared (Within):               0.1646\n",
      "Date:                Tue, Nov 15 2022   R-squared (Overall):              0.1246\n",
      "Time:                        11:46:56   Log-likelihood                   -3149.2\n",
      "Cov. Estimator:            Unadjusted                                           \n",
      "                                        F-statistic:                      61.920\n",
      "Entities:                         545   P-value                           0.0000\n",
      "Avg Obs:                       8.0000   Distribution:                 F(10,4349)\n",
      "Min Obs:                       8.0000                                           \n",
      "Max Obs:                       8.0000   F-statistic (robust):             61.920\n",
      "                                        P-value                           0.0000\n",
      "Time periods:                       8   Distribution:                 F(10,4349)\n",
      "Avg Obs:                       545.00                                           \n",
      "Min Obs:                       545.00                                           \n",
      "Max Obs:                       545.00                                           \n",
      "                                                                                \n",
      "                             Parameter Estimates                              \n",
      "==============================================================================\n",
      "            Parameter  Std. Err.     T-stat    P-value    Lower CI    Upper CI\n",
      "------------------------------------------------------------------------------\n",
      "const          1.3454     0.0222     60.606     0.0000      1.3019      1.3889\n",
      "expersq       -0.0021     0.0003    -7.5081     0.0000     -0.0026     -0.0015\n",
      "union          0.1768     0.0176     10.032     0.0000      0.1423      0.2114\n",
      "married        0.1521     0.0159     9.5417     0.0000      0.1209      0.1834\n",
      "year.1981      0.1187     0.0303     3.9144     0.0001      0.0592      0.1781\n",
      "year.1982      0.1843     0.0306     6.0168     0.0000      0.1243      0.2444\n",
      "year.1983      0.2431     0.0313     7.7581     0.0000      0.1817      0.3046\n",
      "year.1984      0.3322     0.0324     10.236     0.0000      0.2685      0.3958\n",
      "year.1985      0.4112     0.0341     12.048     0.0000      0.3443      0.4781\n",
      "year.1986      0.5039     0.0365     13.806     0.0000      0.4323      0.5754\n",
      "year.1987      0.5952     0.0396     15.026     0.0000      0.5176      0.6729\n",
      "==============================================================================\n"
     ]
    }
   ],
   "source": [
    "#必要なパッケージをインポートする\n",
    "import statsmodels.api as sm\n",
    "from linearmodels.panel import PooledOLS\n",
    "\n",
    "#説明変数を指定する\n",
    "#exog_vars = [\"black\", \"hisp\", \"exper\", \"expersq\", \"married\", \"educ\", \"union\", \"year\"]\n",
    "exog_vars = [\"expersq\", \"union\", \"married\", \"year\"]\n",
    "exog = sm.add_constant(data[exog_vars])\n",
    "#被説明変数には data.lwage を指定する\n",
    "mod = PooledOLS(data.lwage, exog)\n",
    "pooled_res = mod.fit()\n",
    "print(pooled_res)"
   ]
  },
  {
   "cell_type": "markdown",
   "id": "2b068e4a",
   "metadata": {},
   "source": [
    "プラスに作用する変数(const, union, married)、マイナスに作用する変数(expersq)があることが確認できる。係数ごとにt値、P値が出力されるのは、これまでの線形回帰とそれほど変わらない。違うポイントは、Time Periodsが表示されている点です。今回のデータセットは8時点間に基づくパネルデータであることが確認できる。(1980-1987の8時点）"
   ]
  },
  {
   "cell_type": "markdown",
   "id": "4fc97495",
   "metadata": {},
   "source": [
    "## 5.9 パネルデータ分析(3) 固定効果モデル\n",
    "固定効果モデル(fixed-effect model)によりパネルデータの分析を行う。\n",
    "\n",
    "固定効果モデルでは、エントリーごとの固有の特性が存在するとして分析を行う。例えば、従業員ごとの特性や企業ごとの特性をコントロールしたい場合、固定効果モデルに基づきパネルデータの分析を行う。\n",
    "\n",
    "linearmodelsからPanelOLSをインポートします。説明変数のリストを指定し、PanelOLSに（被説明変数、説明変数）の順に値を指定し、fit()メソッドを用いてモデルを実行する。"
   ]
  },
  {
   "cell_type": "code",
   "execution_count": 5,
   "id": "ef537c35",
   "metadata": {},
   "outputs": [
    {
     "name": "stdout",
     "output_type": "stream",
     "text": [
      "                          PanelOLS Estimation Summary                           \n",
      "================================================================================\n",
      "Dep. Variable:                  lwage   R-squared:                        0.1806\n",
      "Estimator:                   PanelOLS   R-squared (Between):             -0.0052\n",
      "No. Observations:                4360   R-squared (Within):               0.1806\n",
      "Date:                Tue, Nov 15 2022   R-squared (Overall):              0.0807\n",
      "Time:                        11:49:15   Log-likelihood                   -1324.8\n",
      "Cov. Estimator:            Unadjusted                                           \n",
      "                                        F-statistic:                      83.851\n",
      "Entities:                         545   P-value                           0.0000\n",
      "Avg Obs:                       8.0000   Distribution:                 F(10,3805)\n",
      "Min Obs:                       8.0000                                           \n",
      "Max Obs:                       8.0000   F-statistic (robust):             83.851\n",
      "                                        P-value                           0.0000\n",
      "Time periods:                       8   Distribution:                 F(10,3805)\n",
      "Avg Obs:                       545.00                                           \n",
      "Min Obs:                       545.00                                           \n",
      "Max Obs:                       545.00                                           \n",
      "                                                                                \n",
      "                             Parameter Estimates                              \n",
      "==============================================================================\n",
      "            Parameter  Std. Err.     T-stat    P-value    Lower CI    Upper CI\n",
      "------------------------------------------------------------------------------\n",
      "const          1.4260     0.0183     77.748     0.0000      1.3901      1.4620\n",
      "expersq       -0.0052     0.0007    -7.3612     0.0000     -0.0066     -0.0038\n",
      "union          0.0800     0.0193     4.1430     0.0000      0.0421      0.1179\n",
      "married        0.0467     0.0183     2.5494     0.0108      0.0108      0.0826\n",
      "year.1981      0.1512     0.0219     6.8883     0.0000      0.1082      0.1942\n",
      "year.1982      0.2530     0.0244     10.360     0.0000      0.2051      0.3008\n",
      "year.1983      0.3544     0.0292     12.121     0.0000      0.2971      0.4118\n",
      "year.1984      0.4901     0.0362     13.529     0.0000      0.4191      0.5611\n",
      "year.1985      0.6175     0.0452     13.648     0.0000      0.5288      0.7062\n",
      "year.1986      0.7655     0.0561     13.638     0.0000      0.6555      0.8755\n",
      "year.1987      0.9250     0.0688     13.450     0.0000      0.7902      1.0599\n",
      "==============================================================================\n",
      "\n",
      "F-test for Poolability: 9.1568\n",
      "P-value: 0.0000\n",
      "Distribution: F(544,3805)\n",
      "\n",
      "Included effects: Entity\n"
     ]
    }
   ],
   "source": [
    "#必要なパッケージをインポートする\n",
    "from linearmodels.panel import PanelOLS\n",
    "\n",
    "#説明変数を指定する\n",
    "exog_vars = [\"expersq\", \"union\", \"married\", \"year\"]\n",
    "exog = sm.add_constant(data[exog_vars])\n",
    "#被説明変数には data.lwage を指定する\n",
    "#Fixed Effect で分析するために、entity_effect=Trueを指定する\n",
    "mod = PanelOLS(data.lwage, exog, entity_effects=True)\n",
    "fe_res = mod.fit()\n",
    "print(fe_res)"
   ]
  },
  {
   "cell_type": "markdown",
   "id": "f300602e",
   "metadata": {},
   "source": [
    "上記結果からは、若干、係数がPooledOLSと異なっていること、Estimaator:の部分がPanelOLSになっていること、出力の部分に\"Included effects: Entity\"と明記されていることなどが確認できる。"
   ]
  },
  {
   "cell_type": "markdown",
   "id": "f6190d16",
   "metadata": {},
   "source": [
    "## 5.10 パネルデータ分析(4) 変動効果モデル\n",
    "変動効果モデル(Random Effect Model)では、エントリごとの固有の効果を確率的な要因として捉え分析を行う。\n",
    "\n",
    "パッケージRandomEffectをlinearmodelsからインポートし、これまでと同じく、被説明変数と説明変数からパネルデータに指定します。"
   ]
  },
  {
   "cell_type": "code",
   "execution_count": 6,
   "id": "24107a3e",
   "metadata": {},
   "outputs": [
    {
     "name": "stdout",
     "output_type": "stream",
     "text": [
      "                        RandomEffects Estimation Summary                        \n",
      "================================================================================\n",
      "Dep. Variable:                  lwage   R-squared:                        0.1643\n",
      "Estimator:              RandomEffects   R-squared (Between):              0.0564\n",
      "No. Observations:                4360   R-squared (Within):               0.1780\n",
      "Date:                Tue, Nov 15 2022   R-squared (Overall):              0.1127\n",
      "Time:                        11:51:25   Log-likelihood                   -1629.0\n",
      "Cov. Estimator:            Unadjusted                                           \n",
      "                                        F-statistic:                      85.492\n",
      "Entities:                         545   P-value                           0.0000\n",
      "Avg Obs:                       8.0000   Distribution:                 F(10,4349)\n",
      "Min Obs:                       8.0000                                           \n",
      "Max Obs:                       8.0000   F-statistic (robust):             85.492\n",
      "                                        P-value                           0.0000\n",
      "Time periods:                       8   Distribution:                 F(10,4349)\n",
      "Avg Obs:                       545.00                                           \n",
      "Min Obs:                       545.00                                           \n",
      "Max Obs:                       545.00                                           \n",
      "                                                                                \n",
      "                             Parameter Estimates                              \n",
      "==============================================================================\n",
      "            Parameter  Std. Err.     T-stat    P-value    Lower CI    Upper CI\n",
      "------------------------------------------------------------------------------\n",
      "const          1.3902     0.0228     61.060     0.0000      1.3456      1.4349\n",
      "expersq       -0.0031     0.0005    -6.8214     0.0000     -0.0041     -0.0022\n",
      "union          0.1037     0.0180     5.7595     0.0000      0.0684      0.1390\n",
      "married        0.0777     0.0168     4.6194     0.0000      0.0447      0.1107\n",
      "year.1981      0.1337     0.0216     6.1788     0.0000      0.0913      0.1762\n",
      "year.1982      0.2148     0.0228     9.4300     0.0000      0.1701      0.2594\n",
      "year.1983      0.2913     0.0251     11.583     0.0000      0.2420      0.3406\n",
      "year.1984      0.3986     0.0288     13.845     0.0000      0.3422      0.4551\n",
      "year.1985      0.4948     0.0338     14.631     0.0000      0.4285      0.5611\n",
      "year.1986      0.6074     0.0402     15.112     0.0000      0.5286      0.6862\n",
      "year.1987      0.7257     0.0478     15.168     0.0000      0.6319      0.8195\n",
      "==============================================================================\n"
     ]
    }
   ],
   "source": [
    "#必要なパッケージをインポートする\n",
    "from linearmodels.panel import RandomEffects\n",
    "\n",
    "#説明変数を指定する\n",
    "exog_vars = [\"expersq\", \"union\", \"married\", \"year\"]\n",
    "exog = sm.add_constant(data[exog_vars])\n",
    "#被説明変数には data.lwage を指定する\n",
    "mod = RandomEffects(data.lwage, exog)\n",
    "re_res = mod.fit()\n",
    "print(re_res)"
   ]
  },
  {
   "cell_type": "markdown",
   "id": "9d76a5f1",
   "metadata": {},
   "source": [
    "PooledOLSやFixed Effect Modelに比べて変数の係数や決定係数に違いがあることが確認できます。一般的に、係数はPooledOLSとFixed Effect Modelの中間の値になることが知られている。"
   ]
  },
  {
   "cell_type": "markdown",
   "id": "56442d40",
   "metadata": {},
   "source": [
    "## 5.11 パネルデータ分析(5) モデルの比較\n",
    "最後に、PooledOLSモデル、Fixed Effect モデル、Random Effectモデルの係数を一覧表示します。"
   ]
  },
  {
   "cell_type": "code",
   "execution_count": 7,
   "id": "a946eb4e",
   "metadata": {},
   "outputs": [
    {
     "name": "stdout",
     "output_type": "stream",
     "text": [
      "                            Model Comparison                           \n",
      "=======================================================================\n",
      "                                    FE                RE         Pooled\n",
      "-----------------------------------------------------------------------\n",
      "Dep. Variable                    lwage             lwage          lwage\n",
      "Estimator                     PanelOLS     RandomEffects      PooledOLS\n",
      "No. Observations                  4360              4360           4360\n",
      "Cov. Est.                   Unadjusted        Unadjusted     Unadjusted\n",
      "R-squared                       0.1806            0.1643         0.1246\n",
      "R-Squared (Within)              0.1806            0.1780         0.1646\n",
      "R-Squared (Between)            -0.0052            0.0564         0.0902\n",
      "R-Squared (Overall)             0.0807            0.1127         0.1246\n",
      "F-statistic                     83.851            85.492         61.920\n",
      "P-value (F-stat)                0.0000            0.0000         0.0000\n",
      "=====================     ============   ===============   ============\n",
      "const                           1.4260            1.3902         1.3454\n",
      "                              (77.748)          (61.060)       (60.606)\n",
      "expersq                        -0.0052           -0.0031        -0.0021\n",
      "                             (-7.3612)         (-6.8214)      (-7.5081)\n",
      "union                           0.0800            0.1037         0.1768\n",
      "                              (4.1430)          (5.7595)       (10.032)\n",
      "married                         0.0467            0.0777         0.1521\n",
      "                              (2.5494)          (4.6194)       (9.5417)\n",
      "year.1981                       0.1512            0.1337         0.1187\n",
      "                              (6.8883)          (6.1788)       (3.9144)\n",
      "year.1982                       0.2530            0.2148         0.1843\n",
      "                              (10.360)          (9.4300)       (6.0168)\n",
      "year.1983                       0.3544            0.2913         0.2431\n",
      "                              (12.121)          (11.583)       (7.7581)\n",
      "year.1984                       0.4901            0.3986         0.3322\n",
      "                              (13.529)          (13.845)       (10.236)\n",
      "year.1985                       0.6175            0.4948         0.4112\n",
      "                              (13.648)          (14.631)       (12.048)\n",
      "year.1986                       0.7655            0.6074         0.5039\n",
      "                              (13.638)          (15.112)       (13.806)\n",
      "year.1987                       0.9250            0.7257         0.5952\n",
      "                              (13.450)          (15.168)       (15.026)\n",
      "======================= ============== ================= ==============\n",
      "Effects                         Entity                                 \n",
      "-----------------------------------------------------------------------\n",
      "\n",
      "T-stats reported in parentheses\n"
     ]
    }
   ],
   "source": [
    "from linearmodels.panel import compare\n",
    "\n",
    "print(compare({\"FE\": fe_res, \"RE\": re_res, \"Pooled\": pooled_res}))"
   ]
  },
  {
   "cell_type": "code",
   "execution_count": null,
   "id": "569d7b47",
   "metadata": {},
   "outputs": [],
   "source": []
  }
 ],
 "metadata": {
  "kernelspec": {
   "display_name": "Python 3 (ipykernel)",
   "language": "python",
   "name": "python3"
  },
  "language_info": {
   "codemirror_mode": {
    "name": "ipython",
    "version": 3
   },
   "file_extension": ".py",
   "mimetype": "text/x-python",
   "name": "python",
   "nbconvert_exporter": "python",
   "pygments_lexer": "ipython3",
   "version": "3.9.12"
  }
 },
 "nbformat": 4,
 "nbformat_minor": 5
}
